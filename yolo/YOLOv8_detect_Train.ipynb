{
  "cells": [
    {
      "cell_type": "code",
      "execution_count": null,
      "metadata": {
        "colab": {
          "base_uri": "https://localhost:8080/"
        },
        "id": "T5kfO0tEGOzc",
        "outputId": "f8b1ccb6-50a5-400a-8a26-be3ea7a18069"
      },
      "outputs": [
        {
          "name": "stdout",
          "output_type": "stream",
          "text": [
            "Mounted at /content/drive\n"
          ]
        }
      ],
      "source": [
        "from tqdm import tqdm\n",
        "from ultralytics import YOLO\n",
        "import os\n",
        "import locale\n",
        "import subprocess\n",
        "from google.colab import drive\n",
        "\n",
        "drive.mount('/content/drive')"
      ]
    },
    {
      "cell_type": "code",
      "execution_count": null,
      "metadata": {
        "colab": {
          "base_uri": "https://localhost:8080/"
        },
        "id": "_dGNH8YEKRyo",
        "outputId": "dc3bb468-4abf-47de-ddd6-4192e176efdc"
      },
      "outputs": [
        {
          "name": "stdout",
          "output_type": "stream",
          "text": [
            "Thu Jun  6 11:16:02 2024       \n",
            "+---------------------------------------------------------------------------------------+\n",
            "| NVIDIA-SMI 535.104.05             Driver Version: 535.104.05   CUDA Version: 12.2     |\n",
            "|-----------------------------------------+----------------------+----------------------+\n",
            "| GPU  Name                 Persistence-M | Bus-Id        Disp.A | Volatile Uncorr. ECC |\n",
            "| Fan  Temp   Perf          Pwr:Usage/Cap |         Memory-Usage | GPU-Util  Compute M. |\n",
            "|                                         |                      |               MIG M. |\n",
            "|=========================================+======================+======================|\n",
            "|   0  NVIDIA L4                      Off | 00000000:00:03.0 Off |                    0 |\n",
            "| N/A   58C    P8              12W /  72W |      1MiB / 23034MiB |      0%      Default |\n",
            "|                                         |                      |                  N/A |\n",
            "+-----------------------------------------+----------------------+----------------------+\n",
            "                                                                                         \n",
            "+---------------------------------------------------------------------------------------+\n",
            "| Processes:                                                                            |\n",
            "|  GPU   GI   CI        PID   Type   Process name                            GPU Memory |\n",
            "|        ID   ID                                                             Usage      |\n",
            "|=======================================================================================|\n",
            "|  No running processes found                                                           |\n",
            "+---------------------------------------------------------------------------------------+\n",
            "\n"
          ]
        }
      ],
      "source": [
        "gpu_info = subprocess.check_output([\"nvidia-smi\"]).decode(\"utf-8\")\n",
        "\n",
        "if gpu_info.find('failed') >= 0:\n",
        "  print('Not connected to a GPU')\n",
        "else:\n",
        "  print(gpu_info)"
      ]
    },
    {
      "cell_type": "code",
      "execution_count": null,
      "metadata": {
        "collapsed": true,
        "id": "04EDvhiaCdnP"
      },
      "outputs": [],
      "source": [
        "os.getcwd()\n",
        "locale.getpreferredencoding = lambda: \"UTF-8\""
      ]
    },
    {
      "cell_type": "code",
      "execution_count": null,
      "metadata": {
        "id": "xQ3X0VrmDlg5"
      },
      "outputs": [],
      "source": [
        "!pip install ultralytics"
      ]
    },
    {
      "cell_type": "code",
      "execution_count": null,
      "metadata": {
        "id": "OuNLHSAWG0D8"
      },
      "outputs": [],
      "source": [
        "!unzip -qq \"/content/drive/MyDrive/Colab_Notebooks/Addinedu/crutches_wheelchairs_ver6.zip\""
      ]
    },
    {
      "cell_type": "markdown",
      "metadata": {
        "id": "N5Jkt3TSD1i6"
      },
      "source": [
        "### **모델 학습**"
      ]
    },
    {
      "cell_type": "code",
      "execution_count": null,
      "metadata": {
        "collapsed": true,
        "id": "SmGtmGZkF1fe"
      },
      "outputs": [],
      "source": [
        "# Load a pretrained YOLOv8-worldv2 model\n",
        "model = YOLO(\"yolov8l-worldv2.pt\")\n",
        "model.train(data='/content/crutches_wheelchairs_ver6/data.yaml', epochs = 80, batch = 32)\n"
      ]
    },
    {
      "cell_type": "code",
      "execution_count": null,
      "metadata": {
        "id": "VoxeiRgjYbU0"
      },
      "outputs": [],
      "source": [
        "import shutil\n",
        "import zipfile\n",
        "import os\n",
        "from google.colab import files\n",
        "\n",
        "# 압축할 디렉토리와 압축 파일 경로 설정\n",
        "directory_to_zip = '/content/runs/detect/train'\n",
        "output_filename = '/content/Trained_by_YOLO_8v_world.zip'\n",
        "\n",
        "# 디렉토리를 압축\n",
        "shutil.make_archive(output_filename.replace('.zip', ''), 'zip', directory_to_zip)\n",
        "\n",
        "# 압축된 파일 다운로드\n",
        "files.download(output_filename)"
      ]
    }
  ],
  "metadata": {
    "accelerator": "GPU",
    "colab": {
      "gpuType": "L4",
      "machine_shape": "hm",
      "provenance": []
    },
    "kernelspec": {
      "display_name": "Python 3",
      "name": "python3"
    },
    "language_info": {
      "codemirror_mode": {
        "name": "ipython",
        "version": 3
      },
      "file_extension": ".py",
      "mimetype": "text/x-python",
      "name": "python",
      "nbconvert_exporter": "python",
      "pygments_lexer": "ipython3",
      "version": "3.10.12"
    }
  },
  "nbformat": 4,
  "nbformat_minor": 0
}
