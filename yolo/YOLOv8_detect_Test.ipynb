{
  "cells": [
    {
      "cell_type": "code",
      "source": [
        "# ultralytics 설치\n",
        "!pip install ultralytics\n",
        "# CLIP 설치\n",
        "!pip install git+https://github.com/openai/CLIP.git"
      ],
      "metadata": {
        "id": "2RNEdtnraHDF"
      },
      "execution_count": null,
      "outputs": []
    },
    {
      "cell_type": "code",
      "execution_count": null,
      "metadata": {
        "colab": {
          "base_uri": "https://localhost:8080/"
        },
        "id": "T5kfO0tEGOzc",
        "outputId": "1017fd72-78bd-4c5a-eb14-2e000d8e02e7"
      },
      "outputs": [
        {
          "output_type": "stream",
          "name": "stdout",
          "text": [
            "Mounted at /content/drive\n"
          ]
        }
      ],
      "source": [
        "from ultralytics import YOLO\n",
        "import os\n",
        "import locale\n",
        "import subprocess\n",
        "from google.colab import drive\n",
        "\n",
        "drive.mount('/content/drive')"
      ]
    },
    {
      "cell_type": "code",
      "execution_count": null,
      "metadata": {
        "id": "_dGNH8YEKRyo"
      },
      "outputs": [],
      "source": [
        "gpu_info = subprocess.check_output([\"nvidia-smi\"]).decode(\"utf-8\")\n",
        "\n",
        "if gpu_info.find('failed') >= 0:\n",
        "  print('Not connected to a GPU')\n",
        "else:\n",
        "  print(gpu_info)"
      ]
    },
    {
      "cell_type": "code",
      "source": [
        "os.getcwd()\n",
        "locale.getpreferredencoding = lambda: \"UTF-8\""
      ],
      "metadata": {
        "id": "04EDvhiaCdnP",
        "collapsed": true
      },
      "execution_count": null,
      "outputs": []
    },
    {
      "cell_type": "markdown",
      "source": [
        "### **모델 추론**\n",
        "#### 사전에 학습한 모델 가중치('best.pt') 불러오기"
      ],
      "metadata": {
        "id": "HOKLxVdkwlXH"
      }
    },
    {
      "cell_type": "code",
      "source": [
        "import cv2\n",
        "import json\n",
        "import numpy as np\n",
        "import shutil\n",
        "from google.colab import files\n",
        "import os\n",
        "from ultralytics import YOLO\n",
        "\n",
        "# 첫 번째 모델 로드 (stick_user 및 wheelchair_user 클래스용)\n",
        "model1 = YOLO(\"/content/drive/MyDrive/Colab_Notebooks/Addinedu//content/drive/MyDrive/Colab_Notebooks/Addinedu/Crutches_and_wheelchairs_ver6_by_yolov8l-worldv2_best_set_classes.pt\")\n",
        "\n",
        "# 두 번째 모델 로드 (person 클래스용)\n",
        "model2 = YOLO(\"yolov8l-worldv2.pt\")\n",
        "model2.set_classes([\"person\"])\n",
        "\n",
        "# 클래스 별 색상 정의\n",
        "class_colors = {\n",
        "    'stick_user': (0, 0, 255),    # Red\n",
        "    'person': (255, 0, 0),     # Blue\n",
        "    'person_no': (255, 0, 0),     # Blue\n",
        "    'wheelchair_user': (255, 0, 255) # Pink\n",
        "}\n",
        "\n",
        "# 카메라 위치별 값 정의\n",
        "camera_ids = ['A', 'B', 'C']\n",
        "\n",
        "def filter_boxes(results):\n",
        "    filtered_results = []\n",
        "    for result in results:\n",
        "        boxes = result.boxes.xyxy.cpu().numpy()\n",
        "        scores = result.boxes.conf.cpu().numpy()\n",
        "        labels = result.boxes.cls.cpu().numpy()\n",
        "        names = result.names\n",
        "\n",
        "        unique_labels = np.unique(labels)\n",
        "        best_boxes = []\n",
        "        for label in unique_labels:\n",
        "            label_mask = labels == label\n",
        "            label_boxes = boxes[label_mask]\n",
        "            label_scores = scores[label_mask]\n",
        "            max_index = np.argmax(label_scores)\n",
        "            best_boxes.append((label_boxes[max_index], label_scores[max_index], label, names))\n",
        "\n",
        "        filtered_results.append(best_boxes)\n",
        "    return filtered_results\n",
        "\n",
        "def draw_boxes(filtered_results, image):\n",
        "    for result in filtered_results:\n",
        "        for box, score, label, names in result:\n",
        "            x1, y1, x2, y2 = map(int, box)\n",
        "            class_name = names[int(label)]\n",
        "            if class_name in class_colors:\n",
        "                color = class_colors[class_name]\n",
        "                label_text = f\"{class_name} {score:.2f}\"\n",
        "                cv2.rectangle(image, (x1, y1), (x2, y2), color, 2)\n",
        "                cv2.putText(image, label_text, (x1, y1 - 10), cv2.FONT_HERSHEY_SIMPLEX, 0.9, color, 2)\n",
        "\n",
        "def remove_detected_objects(frame, filtered_results):\n",
        "    mask = np.ones(frame.shape[:2], dtype=np.uint8) * 255  # Create a white mask\n",
        "    for result in filtered_results:\n",
        "        for box, _, label, names in result:\n",
        "            class_name = names[int(label)]\n",
        "            if class_name in ['stick_user', 'wheelchair_user']:\n",
        "                x1, y1, x2, y2 = map(int, box)\n",
        "                mask[y1:y2, x1:x2] = 0  # Set detected areas to black in the mask\n",
        "    return cv2.bitwise_and(frame, frame, mask=mask)  # Apply mask to frame\n",
        "\n",
        "def save_json(filename, detected_objects):\n",
        "    data = {\n",
        "        \"image\": {\n",
        "            \"filename\": filename,\n",
        "            \"detected_objects\": detected_objects\n",
        "        }\n",
        "    }\n",
        "    json_path = filename.replace('.jpg', '.json')\n",
        "    with open(json_path, 'w') as json_file:\n",
        "        json.dump(data, json_file, indent=4)\n",
        "\n",
        "if __name__ == \"__main__\":\n",
        "    # 동영상 파일 경로\n",
        "    video_name = 'bus_wheelchair_crutch.mp4'\n",
        "    video_path = f'/content/drive/MyDrive/Colab_Notebooks/Addinedu/{video_name}'\n",
        "    output_video_path = f'/content/drive/MyDrive/Colab_Notebooks/Addinedu/predicted_{video_name}'\n",
        "\n",
        "    # 'output_frames' 디렉토리를 생성\n",
        "    output_frames_dir = '../data/detection'\n",
        "    os.makedirs(output_frames_dir, exist_ok=True)\n",
        "\n",
        "    # 'output_json' 디렉토리를 생성\n",
        "    output_json_dir = '../data/detection'\n",
        "    os.makedirs(output_json_dir, exist_ok=True)\n",
        "\n",
        "    # 동영상 캡처 객체 생성\n",
        "    cap = cv2.VideoCapture(video_path)\n",
        "    frame_width = 640\n",
        "    frame_height = 640\n",
        "    fps = int(cap.get(cv2.CAP_PROP_FPS))\n",
        "\n",
        "    # 동영상 파일 저장 객체 생성\n",
        "    fourcc = cv2.VideoWriter_fourcc(*'mp4v')\n",
        "    out = cv2.VideoWriter(output_video_path, fourcc, fps, (frame_width, frame_height))\n",
        "\n",
        "    frame_count = 0\n",
        "    while cap.isOpened():\n",
        "        ret, frame = cap.read()\n",
        "        if not ret:\n",
        "            break\n",
        "\n",
        "        frame = cv2.resize(frame, (640, 640))\n",
        "\n",
        "        # 첫 번째 모델로 예측\n",
        "        results1 = model1.predict(frame, save=False, conf=0.5)\n",
        "        filtered_results1 = filter_boxes(results1)\n",
        "\n",
        "        # detected_objects 첫 번째 모델 결과 저장\n",
        "        detected_objects = {}\n",
        "        for result in filtered_results1:\n",
        "            for box, score, label, names in result:\n",
        "                class_name = names[int(label)]\n",
        "                if class_name in ['stick_user', 'wheelchair_user']:\n",
        "                    if class_name not in detected_objects:\n",
        "                        detected_objects[class_name] = {}\n",
        "                    bbox_id = f\"id{len(detected_objects[class_name]) + 1}\"\n",
        "                    detected_objects[class_name][bbox_id] = [int(box[0]), int(box[1]), int(box[2]), int(box[3])]\n",
        "\n",
        "        # 첫 번째 모델 결과를 바탕으로 객체 제외\n",
        "        frame_no_objects = remove_detected_objects(frame, filtered_results1)\n",
        "\n",
        "        # 두 번째 모델로 예측\n",
        "        results2 = model2.predict(frame_no_objects, save=False, conf=0.5, iou=0.5, max_det=100)\n",
        "        filtered_results2 = filter_boxes(results2)\n",
        "\n",
        "        # detected_objects에 두 번째 모델 결과 추가 저장\n",
        "        for result in filtered_results2:\n",
        "            for box, score, label, names in result:\n",
        "                class_name = names[int(label)]\n",
        "                if class_name in ['person']:\n",
        "                    if class_name not in detected_objects:\n",
        "                        detected_objects[class_name] = {}\n",
        "                    bbox_id = f\"id{len(detected_objects[class_name]) + 1}\"\n",
        "                    detected_objects[class_name][bbox_id] = [int(box[0]), int(box[1]), int(box[2]), int(box[3])]\n",
        "\n",
        "        if detected_objects:\n",
        "            frame_filename = os.path.join(output_frames_dir, f\"{camera_ids[0]}_{video_name}_{frame_count:04d}.jpg\")\n",
        "            json_frame_filename = os.path.join(output_json_dir, f\"{camera_ids[0]}_{video_name}_{frame_count:04d}.jpg\")\n",
        "            cv2.imwrite(frame_filename, frame)\n",
        "            save_json(json_frame_filename, detected_objects)\n",
        "\n",
        "        # 두 모델의 결과 모두 그리기\n",
        "        draw_boxes(filtered_results1, frame)\n",
        "        draw_boxes(filtered_results2, frame)\n",
        "\n",
        "        out.write(frame)\n",
        "        frame_count += 1\n",
        "\n",
        "    cap.release()\n",
        "    out.release()\n",
        "    cv2.destroyAllWindows()\n",
        "\n",
        "    print(f\"Processed video saved to {output_video_path}\")\n",
        "    print(f\"Processed frames saved to {output_frames_dir}\")\n",
        "\n",
        "    # 압축할 디렉토리와 압축 파일 경로 설정\n",
        "    output_filename = '/content/detection.zip'\n",
        "\n",
        "    # 디렉토리를 압축\n",
        "    shutil.make_archive('/content/detection', 'zip', output_json_dir)\n",
        "\n",
        "    # 압축된 파일 다운로드\n",
        "    files.download(output_filename)"
      ],
      "metadata": {
        "id": "_4MFrngaGK7l"
      },
      "execution_count": null,
      "outputs": []
    }
  ],
  "metadata": {
    "accelerator": "GPU",
    "colab": {
      "gpuType": "L4",
      "machine_shape": "hm",
      "provenance": []
    },
    "kernelspec": {
      "display_name": "Python 3",
      "name": "python3"
    },
    "language_info": {
      "codemirror_mode": {
        "name": "ipython",
        "version": 3
      },
      "file_extension": ".py",
      "mimetype": "text/x-python",
      "name": "python",
      "nbconvert_exporter": "python",
      "pygments_lexer": "ipython3",
      "version": "3.10.12"
    }
  },
  "nbformat": 4,
  "nbformat_minor": 0
}